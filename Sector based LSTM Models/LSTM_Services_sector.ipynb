{
 "cells": [
  {
   "cell_type": "code",
   "execution_count": 1,
   "id": "cbac4de8",
   "metadata": {},
   "outputs": [],
   "source": [
    "import pandas as pd\n",
    "import numpy as np\n",
    "from math import sqrt\n",
    "from sklearn.preprocessing import MinMaxScaler\n",
    "from sklearn.metrics import mean_squared_error\n",
    "from tensorflow.keras.models import Sequential\n",
    "from tensorflow.keras.layers import LSTM, Dense\n",
    "import matplotlib.pyplot as plt"
   ]
  },
  {
   "cell_type": "code",
   "execution_count": 2,
   "id": "8cb92566",
   "metadata": {},
   "outputs": [
    {
     "name": "stdout",
     "output_type": "stream",
     "text": [
      "            Date      Symbol Series  Prev Close    Open    High     Low  \\\n",
      "0     2015-01-01  ADANIPORTS     EQ      319.05  319.00  322.50  316.25   \n",
      "1     2015-01-02  ADANIPORTS     EQ      319.55  319.35  325.80  318.05   \n",
      "2     2015-01-05  ADANIPORTS     EQ      319.35  320.45  327.50  319.35   \n",
      "3     2015-01-06  ADANIPORTS     EQ      323.80  321.65  331.45  315.60   \n",
      "4     2015-01-07  ADANIPORTS     EQ      321.85  321.95  328.70  317.40   \n",
      "...          ...         ...    ...         ...     ...     ...     ...   \n",
      "1561  2021-04-26  ADANIPORTS     EQ      725.35  733.00  739.65  728.90   \n",
      "1562  2021-04-27  ADANIPORTS     EQ      730.75  735.00  757.50  727.35   \n",
      "1563  2021-04-28  ADANIPORTS     EQ      749.15  755.00  760.00  741.10   \n",
      "1564  2021-04-29  ADANIPORTS     EQ      746.25  753.20  765.85  743.40   \n",
      "1565  2021-04-30  ADANIPORTS     EQ      746.75  739.00  759.45  724.50   \n",
      "\n",
      "        Last   Close    VWAP    Volume          Turnover  Trades  \\\n",
      "0     318.35  319.55  319.63   1456204    46544100000000   16777   \n",
      "1     319.30  319.35  321.61   2894058    93075300000000   36823   \n",
      "2     323.75  323.80  324.37   2099786    68109800000000   34920   \n",
      "3     321.70  321.85  323.73   3672197   118879291730000   44136   \n",
      "4     321.75  321.10  323.01   2981544    96305900000000   43175   \n",
      "...      ...     ...     ...       ...               ...     ...   \n",
      "1561  729.20  730.75  733.25   9390549   688565772360000  116457   \n",
      "1562  748.60  749.15  747.67  20573107  1538191347480000  236896   \n",
      "1563  743.40  746.25  751.02  11156977   837910561285000  130847   \n",
      "1564  746.40  746.75  753.06  13851910  1043138646980000  153293   \n",
      "1565  726.40  730.05  743.35  12600934   936691138995000  132141   \n",
      "\n",
      "      Deliverable Volume  %Deliverble  \n",
      "0                 177991       0.1222  \n",
      "1                1036496       0.3581  \n",
      "2                 773016       0.3681  \n",
      "3                 978986       0.2666  \n",
      "4                 996993       0.3344  \n",
      "...                  ...          ...  \n",
      "1561              838079       0.0892  \n",
      "1562             1779639       0.0865  \n",
      "1563             1342353       0.1203  \n",
      "1564             1304895       0.0942  \n",
      "1565             3514692       0.2789  \n",
      "\n",
      "[1566 rows x 15 columns]\n"
     ]
    }
   ],
   "source": [
    "# Load data\n",
    "df = pd.read_csv('./Services_mod.csv')\n",
    "\n",
    "# Replace null values with 0\n",
    "df.fillna(0, inplace=True)\n",
    "\n",
    "# Print the data\n",
    "print(df)"
   ]
  },
  {
   "cell_type": "code",
   "execution_count": 3,
   "id": "cb40ccc4",
   "metadata": {},
   "outputs": [],
   "source": [
    "def create_sequences(data, sequence_length):\n",
    "    xs, ys = [], []\n",
    "    for i in range(len(data) - sequence_length):\n",
    "        x = data.iloc[i:(i + sequence_length)].values\n",
    "        y = data.iloc[i + sequence_length].values\n",
    "        xs.append(x)\n",
    "        ys.append(y)\n",
    "    return np.array(xs), np.array(ys)\n"
   ]
  },
  {
   "cell_type": "code",
   "execution_count": 4,
   "id": "606aad5a",
   "metadata": {},
   "outputs": [],
   "source": [
    "def train_model_for_stock(stock_df):\n",
    "    scaler = MinMaxScaler(feature_range=(0, 1))\n",
    "    scaled_data = scaler.fit_transform(stock_df['Close'].values.reshape(-1,1))\n",
    "\n",
    "    sequence_length = 60\n",
    "    X, y = create_sequences(pd.DataFrame(scaled_data), sequence_length)\n",
    "\n",
    "    # Split data into training and test sets\n",
    "    train_size = int(len(X) * 0.8)\n",
    "    X_train, X_test = X[:train_size], X[train_size:]\n",
    "    y_train, y_test = y[:train_size], y[train_size:]\n",
    "\n",
    "    # Build the LSTM model\n",
    "    model = Sequential([\n",
    "        LSTM(50, return_sequences=True, input_shape=(X_train.shape[1], 1)),\n",
    "        LSTM(50, return_sequences=False),\n",
    "        Dense(25),\n",
    "        Dense(1)\n",
    "    ])\n",
    "    model.compile(optimizer='adam', loss='mean_squared_error')\n",
    "\n",
    "    # Train the model\n",
    "    model.fit(X_train, y_train, batch_size=32, epochs=20)\n",
    "\n",
    "    # Calculate RMSE and MSE for training\n",
    "    trainPredict = model.predict(X_train)\n",
    "    trainScore_RMSE = sqrt(mean_squared_error(y_train, trainPredict))\n",
    "    trainScore_MSE = mean_squared_error(y_train, trainPredict)\n",
    "\n",
    "    # Calculate RMSE and MSE for testing\n",
    "    testPredict = model.predict(X_test)\n",
    "    testScore_RMSE = sqrt(mean_squared_error(y_test, testPredict))\n",
    "    testScore_MSE = mean_squared_error(y_test, testPredict)\n",
    "\n",
    "    return trainScore_RMSE, trainScore_MSE, testScore_RMSE, testScore_MSE, scaler.inverse_transform(testPredict), y_test, scaler.inverse_transform(y_test)"
   ]
  },
  {
   "cell_type": "code",
   "execution_count": 5,
   "id": "93a515c6",
   "metadata": {},
   "outputs": [],
   "source": [
    "def plot_predictions(stock_name, true_values, predictions):\n",
    "    plt.figure(figsize=(14,7))\n",
    "    plt.plot(true_values, label='Actual Close Price')\n",
    "    plt.plot(predictions, label='Predicted Close Price', alpha=0.7)\n",
    "    plt.title(f'{stock_name} Stock Price Prediction')\n",
    "    plt.xlabel('Time')\n",
    "    plt.ylabel('Stock Price')\n",
    "    plt.legend()\n",
    "    plt.show()"
   ]
  },
  {
   "cell_type": "code",
   "execution_count": 6,
   "id": "b4f1987b",
   "metadata": {},
   "outputs": [],
   "source": [
    "# Create a DataFrame to store the RMSE and MSE values\n",
    "# Columns: 'Stock', 'Train_RMSE', 'Train_MSE', 'Test_RMSE', 'Test_MSE'\n",
    "performance_df = pd.DataFrame(columns=['Stock', 'Train_RMaSE', 'Train_MSE', 'Test_RMSE', 'Test_MSE'])"
   ]
  },
  {
   "cell_type": "code",
   "execution_count": 7,
   "id": "9c8629eb",
   "metadata": {},
   "outputs": [
    {
     "name": "stdout",
     "output_type": "stream",
     "text": [
      "Processing ADANIPORTS...\n",
      "Epoch 1/20\n",
      "38/38 [==============================] - 4s 30ms/step - loss: 0.0077\n",
      "Epoch 2/20\n",
      "38/38 [==============================] - 1s 29ms/step - loss: 6.8788e-04\n",
      "Epoch 3/20\n",
      "38/38 [==============================] - 1s 31ms/step - loss: 5.1975e-04\n",
      "Epoch 4/20\n",
      "38/38 [==============================] - 1s 34ms/step - loss: 5.1224e-04\n",
      "Epoch 5/20\n",
      "38/38 [==============================] - 1s 32ms/step - loss: 4.6654e-04\n",
      "Epoch 6/20\n",
      "38/38 [==============================] - 1s 31ms/step - loss: 4.6387e-04\n",
      "Epoch 7/20\n",
      "38/38 [==============================] - 1s 31ms/step - loss: 4.2382e-04\n",
      "Epoch 8/20\n",
      "38/38 [==============================] - 1s 31ms/step - loss: 4.2166e-04\n",
      "Epoch 9/20\n",
      "38/38 [==============================] - 1s 30ms/step - loss: 3.8814e-04\n",
      "Epoch 10/20\n",
      "38/38 [==============================] - 1s 30ms/step - loss: 3.7557e-04\n",
      "Epoch 11/20\n",
      "38/38 [==============================] - 1s 30ms/step - loss: 3.4366e-04\n",
      "Epoch 12/20\n",
      "38/38 [==============================] - 1s 30ms/step - loss: 3.4263e-04\n",
      "Epoch 13/20\n",
      "38/38 [==============================] - 1s 30ms/step - loss: 3.2998e-04\n",
      "Epoch 14/20\n",
      "38/38 [==============================] - 1s 30ms/step - loss: 3.4314e-04\n",
      "Epoch 15/20\n",
      "38/38 [==============================] - 1s 30ms/step - loss: 3.0870e-04\n",
      "Epoch 16/20\n",
      "38/38 [==============================] - 1s 30ms/step - loss: 2.9665e-04\n",
      "Epoch 17/20\n",
      "38/38 [==============================] - 1s 31ms/step - loss: 2.9138e-04\n",
      "Epoch 18/20\n",
      "38/38 [==============================] - 1s 30ms/step - loss: 2.8177e-04\n",
      "Epoch 19/20\n",
      "38/38 [==============================] - 1s 31ms/step - loss: 2.6070e-04\n",
      "Epoch 20/20\n",
      "38/38 [==============================] - 1s 31ms/step - loss: 2.6946e-04\n",
      "38/38 [==============================] - 1s 12ms/step\n",
      "10/10 [==============================] - 0s 11ms/step\n"
     ]
    },
    {
     "data": {
      "image/png": "[encoded data removed]",
      "text/plain": [
       "<Figure size 1008x504 with 1 Axes>"
      ]
     },
     "metadata": {
      "needs_background": "light"
     },
     "output_type": "display_data"
    }
   ],
   "source": [
    "unique_stocks = df['Symbol'].unique()\n",
    "\n",
    "# Initialize an empty list to store performance metrics for each stock\n",
    "performance_list = []\n",
    "\n",
    "for stock in unique_stocks:\n",
    "    stock_df = df[df['Symbol'] == stock]\n",
    "    if len(stock_df) > 2 * 60:  # Ensure there's enough data\n",
    "        print(f\"Processing {stock}...\")\n",
    "        trainScore_RMSE, trainScore_MSE, testScore_RMSE, testScore_MSE, predictions, y_test, true_values = train_model_for_stock(stock_df)\n",
    "        plot_predictions(stock, true_values, predictions)\n",
    "        \n",
    "        # Create a dictionary with the performance metrics\n",
    "        current_stock_performance = {\n",
    "            'Stock': stock,  # Replace with the actual stock name\n",
    "            'Train_RMSE': trainScore_RMSE,\n",
    "            'Train_MSE': trainScore_MSE,\n",
    "            'Test_RMSE': testScore_RMSE,\n",
    "            'Test_MSE': testScore_MSE\n",
    "        }\n",
    "        \n",
    "        # Append the dictionary to the list\n",
    "        performance_list.append(current_stock_performance)\n",
    "\n",
    "# Create a DataFrame from the list of dictionaries\n",
    "performance_df = pd.DataFrame(performance_list)\n",
    "\n",
    "# Now 'performance_df' contains the RMSE and MSE values for all stocks"
   ]
  },
  {
   "cell_type": "code",
   "execution_count": 8,
   "id": "d378537f",
   "metadata": {},
   "outputs": [
    {
     "data": {
      "text/html": [
       "<div>\n",
       "<style scoped>\n",
       "    .dataframe tbody tr th:only-of-type {\n",
       "        vertical-align: middle;\n",
       "    }\n",
       "\n",
       "    .dataframe tbody tr th {\n",
       "        vertical-align: top;\n",
       "    }\n",
       "\n",
       "    .dataframe thead th {\n",
       "        text-align: right;\n",
       "    }\n",
       "</style>\n",
       "<table border=\"1\" class=\"dataframe\">\n",
       "  <thead>\n",
       "    <tr style=\"text-align: right;\">\n",
       "      <th></th>\n",
       "      <th>Stock</th>\n",
       "      <th>Train_RMSE</th>\n",
       "      <th>Train_MSE</th>\n",
       "      <th>Test_RMSE</th>\n",
       "      <th>Test_MSE</th>\n",
       "    </tr>\n",
       "  </thead>\n",
       "  <tbody>\n",
       "    <tr>\n",
       "      <th>0</th>\n",
       "      <td>ADANIPORTS</td>\n",
       "      <td>0.016044</td>\n",
       "      <td>0.000257</td>\n",
       "      <td>0.036663</td>\n",
       "      <td>0.001344</td>\n",
       "    </tr>\n",
       "  </tbody>\n",
       "</table>\n",
       "</div>"
      ],
      "text/plain": [
       "        Stock  Train_RMSE  Train_MSE  Test_RMSE  Test_MSE\n",
       "0  ADANIPORTS    0.016044   0.000257   0.036663  0.001344"
      ]
     },
     "execution_count": 8,
     "metadata": {},
     "output_type": "execute_result"
    }
   ],
   "source": [
    "performance_df"
   ]
  },
  {
   "cell_type": "code",
   "execution_count": null,
   "id": "09ed955b",
   "metadata": {},
   "outputs": [],
   "source": []
  }
 ],
 "metadata": {
  "kernelspec": {
   "display_name": "Python 3 (ipykernel)",
   "language": "python",
   "name": "python3"
  },
  "language_info": {
   "codemirror_mode": {
    "name": "ipython",
    "version": 3
   },
   "file_extension": ".py",
   "mimetype": "text/x-python",
   "name": "python",
   "nbconvert_exporter": "python",
   "pygments_lexer": "ipython3",
   "version": "3.9.12"
  }
 },
 "nbformat": 4,
 "nbformat_minor": 5
}
