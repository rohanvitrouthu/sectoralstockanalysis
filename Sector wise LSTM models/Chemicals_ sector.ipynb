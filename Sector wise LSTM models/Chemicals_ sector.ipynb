{
 "cells": [
  {
   "cell_type": "code",
   "execution_count": 1,
   "id": "e0694400-7595-4b1f-a82b-f9a91cd9a66c",
   "metadata": {
    "tags": []
   },
   "outputs": [],
   "source": [
    "import pandas as pd\n",
    "import numpy as np\n",
    "from keras.models import Sequential\n",
    "from keras.layers import Dense, LSTM, Dropout\n",
    "from keras.callbacks import EarlyStopping\n",
    "from keras.regularizers import L1L2\n",
    "from sklearn.preprocessing import MinMaxScaler\n",
    "from sklearn.metrics import mean_squared_error, mean_absolute_error\n",
    "import matplotlib.pyplot as plt"
   ]
  },
  {
   "cell_type": "code",
   "execution_count": 2,
   "id": "b780d18f-9abc-43a9-97ce-be9d9ba4e7b1",
   "metadata": {
    "tags": []
   },
   "outputs": [
    {
     "name": "stdout",
     "output_type": "stream",
     "text": [
      "            Date Symbol Series  Prev Close    Open    High     Low    Last  \\\n",
      "0     2015-01-01    UPL     EQ      346.55  346.20  346.20  338.45  341.50   \n",
      "1     2015-01-02    UPL     EQ      341.60  341.75  355.25  341.75  350.00   \n",
      "2     2015-01-05    UPL     EQ      352.25  350.00  354.00  345.10  346.90   \n",
      "3     2015-01-06    UPL     EQ      345.70  342.95  342.95  326.10  327.90   \n",
      "4     2015-01-07    UPL     EQ      328.95  327.90  334.60  315.30  323.75   \n",
      "...          ...    ...    ...         ...     ...     ...     ...     ...   \n",
      "1561  2021-04-26    UPL     EQ      585.40  587.10  597.90  585.90  590.60   \n",
      "1562  2021-04-27    UPL     EQ      590.65  591.10  605.20  589.40  597.00   \n",
      "1563  2021-04-28    UPL     EQ      597.45  602.95  613.70  601.20  607.50   \n",
      "1564  2021-04-29    UPL     EQ      608.05  613.40  621.00  609.80  616.50   \n",
      "1565  2021-04-30    UPL     EQ      615.80  610.80  621.00  604.05  606.00   \n",
      "\n",
      "       Close    VWAP   Volume         Turnover  Trades  Deliverable Volume  \\\n",
      "0     341.60  341.35   525154   17926231375000    8520              158447   \n",
      "1     352.25  349.43  2323652   81196306085000   44577             1365936   \n",
      "2     345.70  348.51   970159   33810815075000   22583              483645   \n",
      "3     328.95  337.04  1380745   46536303555000   28338              737863   \n",
      "4     323.05  325.97  2480122   80845745150000   32330             1537724   \n",
      "...      ...     ...      ...              ...     ...                 ...   \n",
      "1561  590.65  591.78  3162291  187137782105000   46535              431594   \n",
      "1562  597.45  598.49  4496811  269131455270000  104264             1256338   \n",
      "1563  608.05  608.90  4983043  303419199755000   65061              937294   \n",
      "1564  615.80  615.23  6257014  384950038880000   74611             1420467   \n",
      "1565  606.90  613.09  3072295  188358515500000   42385              664774   \n",
      "\n",
      "      %Deliverble  \n",
      "0          0.3017  \n",
      "1          0.5878  \n",
      "2          0.4985  \n",
      "3          0.5344  \n",
      "4          0.6200  \n",
      "...           ...  \n",
      "1561       0.1365  \n",
      "1562       0.2794  \n",
      "1563       0.1881  \n",
      "1564       0.2270  \n",
      "1565       0.2164  \n",
      "\n",
      "[1566 rows x 15 columns]\n"
     ]
    }
   ],
   "source": [
    "# Load data\n",
    "df = pd.read_csv('./Chemicals_mod.csv')\n",
    "\n",
    "# Replace null values with 0\n",
    "df.fillna(0, inplace=True)\n",
    "\n",
    "# Print the data\n",
    "print(df)"
   ]
  },
  {
   "cell_type": "code",
   "execution_count": 3,
   "id": "3012b038",
   "metadata": {},
   "outputs": [],
   "source": [
    "\n",
    "df['Date'] = pd.to_datetime(df['Date'])\n",
    "df.sort_values('Date', inplace=True)"
   ]
  },
  {
   "cell_type": "code",
   "execution_count": 4,
   "id": "cbd0e9c9-694d-4d24-acd9-44768404e05b",
   "metadata": {
    "tags": []
   },
   "outputs": [],
   "source": [
    "# Function for calculating the metrics of a model trained on a particular stock in the sector.\n",
    "def stockMetrics(y_test, predictions):\n",
    "    # Calculate metrics\n",
    "    mse = mean_squared_error(y_test, predictions)\n",
    "    rmse = np.sqrt(mse)\n",
    "    mae = mean_absolute_error(y_test, predictions)\n",
    "    nrmse = rmse / (np.max(y_test) - np.min(y_test))\n",
    "    actual_growth = ((y_test[-1][0] - y_test[0][0]) / y_test[0][0]) * 100\n",
    "    predicted_growth = ((predictions[-1][0] - predictions[0][0]) / predictions[0][0]) * 100\n",
    "    \n",
    "    return mse, rmse, mae, nrmse, actual_growth, predicted_growth"
   ]
  },
  {
   "cell_type": "code",
   "execution_count": 5,
   "id": "49902975-e0d7-4e17-9037-2e327bb7d668",
   "metadata": {
    "tags": []
   },
   "outputs": [],
   "source": [
    "# Function for plotting the Actual vs Predicted Growth of each stock in a sector.\n",
    "def stockActVsPred(stock_df, y_test, predictions):\n",
    "    # Plot actual vs predicted values\n",
    "    plt.figure(figsize=(10, 6))\n",
    "    plt.plot(stock_df['Date'][len(stock_df)-len(predictions):], y_test, label='Actual')\n",
    "    plt.plot(stock_df['Date'][len(stock_df)-len(predictions):], predictions, label='Predicted')\n",
    "    plt.title(f'Actual vs Predicted Stock Closing Prices for {symbol}')\n",
    "    plt.xlabel('Date')\n",
    "    plt.ylabel('Stock Closing Price')\n",
    "    plt.legend()\n",
    "    plt.show()"
   ]
  },
  {
   "cell_type": "code",
   "execution_count": 6,
   "id": "57ab3131-3850-4b9b-a8b5-09dddae78baa",
   "metadata": {
    "tags": []
   },
   "outputs": [
    {
     "name": "stdout",
     "output_type": "stream",
     "text": [
      "Epoch 1/10\n",
      "26/26 [==============================] - 7s 80ms/step - loss: 0.0582 - val_loss: 0.0240\n",
      "Epoch 2/10\n",
      "26/26 [==============================] - 1s 32ms/step - loss: 0.0082 - val_loss: 0.0170\n",
      "Epoch 3/10\n",
      "26/26 [==============================] - 1s 32ms/step - loss: 0.0058 - val_loss: 0.0126\n",
      "Epoch 4/10\n",
      "26/26 [==============================] - 1s 31ms/step - loss: 0.0056 - val_loss: 0.0105\n",
      "Epoch 5/10\n",
      "26/26 [==============================] - 1s 32ms/step - loss: 0.0053 - val_loss: 0.0087\n",
      "Epoch 6/10\n",
      "26/26 [==============================] - 1s 32ms/step - loss: 0.0050 - val_loss: 0.0078\n",
      "Epoch 7/10\n",
      "26/26 [==============================] - 1s 36ms/step - loss: 0.0050 - val_loss: 0.0075\n",
      "Epoch 8/10\n",
      "26/26 [==============================] - 1s 41ms/step - loss: 0.0048 - val_loss: 0.0102\n",
      "Epoch 9/10\n",
      "26/26 [==============================] - 1s 32ms/step - loss: 0.0043 - val_loss: 0.0073\n",
      "Epoch 10/10\n",
      "26/26 [==============================] - 1s 46ms/step - loss: 0.0046 - val_loss: 0.0073\n",
      "8/8 [==============================] - 1s 13ms/step\n",
      "Metrics of UPL:\n",
      "MSE: 2113.100630247452, RMSE: 45.968474308458966, NRMSE: 0.13135726334750386, MAE: 33.64466811891587, Actual Growth: -20.722481937951557, Predicted Growth: -9.562768787145615\n"
     ]
    },
    {
     "data": {
      "image/png": "[encoded data removed]",
      "text/plain": [
       "<Figure size 720x432 with 1 Axes>"
      ]
     },
     "metadata": {
      "needs_background": "light"
     },
     "output_type": "display_data"
    },
    {
     "data": {
      "text/plain": [
       "\"for symbol, metrics in stock_metrics.items():\\n    print(f'Stock: {symbol}, Metrics: {metrics}', sep = '\\n')\""
      ]
     },
     "execution_count": 6,
     "metadata": {},
     "output_type": "execute_result"
    }
   ],
   "source": [
    "# Calculate rolling mean and standard deviation for the 'Close' column\n",
    "df['50_day_mean'] = df['Close'].rolling(window=50).mean()\n",
    "df['200_day_mean'] = df['Close'].rolling(window=200).mean()\n",
    "df['50_day_std'] = df['Close'].rolling(window=50).std()\n",
    "df['200_day_std'] = df['Close'].rolling(window=200).std()\n",
    "\n",
    "# Drop rows with NaN values resulting from rolling calculations\n",
    "df.dropna(inplace=True)\n",
    "\n",
    "# Define features and target\n",
    "features = ['Open', 'High', 'Low', 'Close', '50_day_mean', '200_day_mean', '50_day_std', '200_day_std']\n",
    "target = 'Close'\n",
    "\n",
    "# Initialize MinMaxScaler\n",
    "scaler = MinMaxScaler(feature_range=(0, 1))\n",
    "\n",
    "# Dictionary to store metrics for each stock\n",
    "stock_metrics = {}\n",
    "\n",
    "# Process each stock\n",
    "for symbol in df['Symbol'].unique():\n",
    "    stock_df = df[df['Symbol'] == symbol].copy()\n",
    "    \n",
    "    # Scale features\n",
    "    scaled_features = scaler.fit_transform(stock_df[features])\n",
    "    scaled_target = scaler.fit_transform(stock_df[[target]])\n",
    "    \n",
    "    X, y = [], []\n",
    "    dates = []  # List to store the corresponding dates for X and y\n",
    "    time_steps = 30\n",
    "    for i in range(time_steps, len(stock_df)):\n",
    "        X.append(scaled_features[i-time_steps:i])\n",
    "        y.append(scaled_target[i])\n",
    "        dates.append(stock_df['Date'].iloc[i])  # Store the corresponding date\n",
    "        \n",
    "    X=np.array(X)\n",
    "    y=np.array(y)\n",
    "    \n",
    "    # Convert dates list to a NumPy array for easier indexing\n",
    "    dates = np.array(dates)\n",
    "    \n",
    "    '''# Create sequences\n",
    "    def create_dataset(X, y, time_steps=1):\n",
    "        Xs, ys = [], []\n",
    "        for i in range(len(X) - time_steps):\n",
    "            Xs.append(X[i:(i + time_steps)])\n",
    "            ys.append(y[i + time_steps])\n",
    "        return np.array(Xs), np.array(ys)\n",
    "\n",
    "    time_steps = 30\n",
    "    X, y = create_dataset(scaled_features, scaled_target, time_steps)'''\n",
    "    \n",
    "    # Split into training and testing datasets based on the specified dates\n",
    "    '''train_mask = stock_df['Date'] < pd.Timestamp('2020-01-01')\n",
    "    test_mask = (stock_df['Date'] >= pd.Timestamp('2020-01-01')) & (stock_df['Date'] < pd.Timestamp('2021-01-01'))\n",
    "    X_train, X_test = X[train_mask], X[test_mask]\n",
    "    y_train, y_test = y[train_mask], y[test_mask]'''\n",
    "    \n",
    "    # Now create masks based on the adjusted dates array\n",
    "    train_mask = dates < pd.Timestamp('2020-01-01')\n",
    "    test_mask = (dates >= pd.Timestamp('2020-01-01')) & (dates < pd.Timestamp('2021-01-01'))\n",
    "    \n",
    "    # Use these masks to split the data\n",
    "    X_train, X_test = X[train_mask], X[test_mask]\n",
    "    y_train, y_test = y[train_mask], y[test_mask]\n",
    "    \n",
    "    # Build the LSTM model\n",
    "    model = Sequential([\n",
    "        LSTM(50, input_shape=(X_train.shape[1], X_train.shape[2]), return_sequences=True),\n",
    "        Dropout(0.2),\n",
    "        LSTM(50, return_sequences=True),\n",
    "        Dropout(0.2),\n",
    "        LSTM(50),\n",
    "        Dropout(0.2),\n",
    "        Dense(1)\n",
    "    ])\n",
    "    model.compile(optimizer='adam', loss='mean_squared_error')\n",
    "    \n",
    "    # Fit the model\n",
    "    early_stop = EarlyStopping(monitor='val_loss', patience=10, restore_best_weights=True)\n",
    "    model.fit(X_train, y_train, epochs=10, batch_size=32, validation_split=0.2, callbacks=[early_stop], verbose=1)\n",
    "    \n",
    "    # Make predictions\n",
    "    predictions = model.predict(X_test)\n",
    "    predictions = scaler.inverse_transform(predictions)\n",
    "    y_test = scaler.inverse_transform(y_test)\n",
    "    \n",
    "    '''# Calculate metrics\n",
    "    mse = mean_squared_error(y_test, predictions)\n",
    "    rmse = np.sqrt(mse)\n",
    "    mae = mean_absolute_error(y_test, predictions)\n",
    "    nrmse = rmse / (np.max(y_test) - np.min(y_test))\n",
    "    actual_growth = ((y_test[-1][0] - y_test[0][0]) / y_test[0][0]) * 100\n",
    "    predicted_growth = ((predictions[-1][0] - predictions[0][0]) / predictions[0][0]) * 100'''\n",
    "    \n",
    "    mse, rmse, mae, nrmse, actual_growth, predicted_growth = stockMetrics(y_test, predictions)\n",
    "    \n",
    "    # Store metrics\n",
    "    stock_metrics[symbol] = {\n",
    "        'MSE': mse,\n",
    "        'RMSE': rmse,\n",
    "        'NRMSE': nrmse,\n",
    "        'MAE': mae,\n",
    "        'Actual Growth %': actual_growth,\n",
    "        'Predicted Growth %': predicted_growth\n",
    "    }\n",
    "    \n",
    "    print(f'Metrics of {symbol}:')\n",
    "    print(f'MSE: {mse}, RMSE: {rmse}, NRMSE: {nrmse}, MAE: {mae}, Actual Growth: {actual_growth}, Predicted Growth: {predicted_growth}')\n",
    "    \n",
    "    stockActVsPred(stock_df, y_test, predictions)\n",
    "\n",
    "    '''# Plot actual vs predicted values\n",
    "    plt.figure(figsize=(10, 6))\n",
    "    plt.plot(stock_df['Date'][len(stock_df)-len(predictions):], y_test, label='Actual')\n",
    "    plt.plot(stock_df['Date'][len(stock_df)-len(predictions):], predictions, label='Predicted')\n",
    "    plt.title(f'Actual vs Predicted Stock Closing Prices for {symbol}')\n",
    "    plt.xlabel('Date')\n",
    "    plt.ylabel('Stock Closing Price')\n",
    "    plt.legend()\n",
    "    plt.show()'''\n",
    "\n",
    "# Output metrics for each stock\n",
    "'''for symbol, metrics in stock_metrics.items():\n",
    "    print(f'Stock: {symbol}, Metrics: {metrics}', sep = '\\n')'''\n"
   ]
  },
  {
   "cell_type": "code",
   "execution_count": null,
   "id": "9a2c9fd3-b8c2-44c9-a9e8-846e0fb52cbe",
   "metadata": {
    "tags": []
   },
   "outputs": [],
   "source": []
  },
  {
   "cell_type": "code",
   "execution_count": null,
   "id": "6b455f8d",
   "metadata": {},
   "outputs": [],
   "source": []
  }
 ],
 "metadata": {
  "kernelspec": {
   "display_name": "Python 3 (ipykernel)",
   "language": "python",
   "name": "python3"
  },
  "language_info": {
   "codemirror_mode": {
    "name": "ipython",
    "version": 3
   },
   "file_extension": ".py",
   "mimetype": "text/x-python",
   "name": "python",
   "nbconvert_exporter": "python",
   "pygments_lexer": "ipython3",
   "version": "3.9.12"
  }
 },
 "nbformat": 4,
 "nbformat_minor": 5
}
