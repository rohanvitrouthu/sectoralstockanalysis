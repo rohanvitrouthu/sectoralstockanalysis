{
  "nbformat": 4,
  "nbformat_minor": 0,
  "metadata": {
    "colab": {
      "provenance": [],
      "authorship_tag": "ABX9TyMPHeshWI3fPq9VN43AaWT+",
      "include_colab_link": true
    },
    "kernelspec": {
      "name": "python3",
      "display_name": "Python 3"
    },
    "language_info": {
      "name": "python"
    }
  },
  "cells": [
    {
      "cell_type": "markdown",
      "metadata": {
        "id": "view-in-github",
        "colab_type": "text"
      },
      "source": [
        "<a href=\"https://colab.research.google.com/github/rohanvitrouthu/sectoralstockanalysis/blob/main/Automobile_LSTM.ipynb\" target=\"_parent\"><img src=\"https://colab.research.google.com/assets/colab-badge.svg\" alt=\"Open In Colab\"/></a>"
      ]
    },
    {
      "cell_type": "code",
      "source": [
        "import pandas as pd\n",
        "import matplotlib.pyplot as plt\n",
        "import seaborn as sns"
      ],
      "metadata": {
        "id": "Xvj43kltSpPr"
      },
      "execution_count": 8,
      "outputs": []
    },
    {
      "cell_type": "code",
      "source": [
        "from google.colab import drive\n",
        "drive.mount('/content/drive')"
      ],
      "metadata": {
        "colab": {
          "base_uri": "https://localhost:8080/"
        },
        "id": "EWdPgsZMSxml",
        "outputId": "ec286530-262a-46d3-a1d1-03eb454ccda1"
      },
      "execution_count": 9,
      "outputs": [
        {
          "output_type": "stream",
          "name": "stdout",
          "text": [
            "Drive already mounted at /content/drive; to attempt to forcibly remount, call drive.mount(\"/content/drive\", force_remount=True).\n"
          ]
        }
      ]
    },
    {
      "cell_type": "code",
      "source": [
        "dataset_path = '/content/drive/MyDrive/DATA 606 Capstone/Dataset/Merged Data'"
      ],
      "metadata": {
        "id": "6XTUGdaOS48O"
      },
      "execution_count": 10,
      "outputs": []
    },
    {
      "cell_type": "code",
      "source": [
        "# Load the data for a specific sector from its CSV file\n",
        "df = pd.read_csv(f\"{dataset_path}/Automobile.csv\")"
      ],
      "metadata": {
        "id": "wIdrm7FyS908"
      },
      "execution_count": 11,
      "outputs": []
    },
    {
      "cell_type": "code",
      "execution_count": 13,
      "metadata": {
        "colab": {
          "base_uri": "https://localhost:8080/",
          "height": 219
        },
        "id": "-au4bpS4SnGV",
        "outputId": "b06bc13f-3781-412e-8b48-cb61b7b2c2c7"
      },
      "outputs": [
        {
          "output_type": "error",
          "ename": "NameError",
          "evalue": "name 'train_data' is not defined",
          "traceback": [
            "\u001b[0;31m---------------------------------------------------------------------------\u001b[0m",
            "\u001b[0;31mNameError\u001b[0m                                 Traceback (most recent call last)",
            "\u001b[0;32m<ipython-input-13-b615c195315a>\u001b[0m in \u001b[0;36m<cell line: 10>\u001b[0;34m()\u001b[0m\n\u001b[1;32m      8\u001b[0m \u001b[0;31m# Scale the data\u001b[0m\u001b[0;34m\u001b[0m\u001b[0;34m\u001b[0m\u001b[0m\n\u001b[1;32m      9\u001b[0m \u001b[0mscaler\u001b[0m \u001b[0;34m=\u001b[0m \u001b[0mMinMaxScaler\u001b[0m\u001b[0;34m(\u001b[0m\u001b[0;34m)\u001b[0m\u001b[0;34m\u001b[0m\u001b[0;34m\u001b[0m\u001b[0m\n\u001b[0;32m---> 10\u001b[0;31m \u001b[0mtrain_data\u001b[0m \u001b[0;34m=\u001b[0m \u001b[0mscaler\u001b[0m\u001b[0;34m.\u001b[0m\u001b[0mfit_transform\u001b[0m\u001b[0;34m(\u001b[0m\u001b[0mtrain_data\u001b[0m\u001b[0;34m.\u001b[0m\u001b[0mreshape\u001b[0m\u001b[0;34m(\u001b[0m\u001b[0;34m-\u001b[0m\u001b[0;36m1\u001b[0m\u001b[0;34m,\u001b[0m \u001b[0;36m1\u001b[0m\u001b[0;34m)\u001b[0m\u001b[0;34m)\u001b[0m\u001b[0;34m\u001b[0m\u001b[0;34m\u001b[0m\u001b[0m\n\u001b[0m\u001b[1;32m     11\u001b[0m \u001b[0mtest_data\u001b[0m \u001b[0;34m=\u001b[0m \u001b[0mscaler\u001b[0m\u001b[0;34m.\u001b[0m\u001b[0mtransform\u001b[0m\u001b[0;34m(\u001b[0m\u001b[0mtest_data\u001b[0m\u001b[0;34m.\u001b[0m\u001b[0mreshape\u001b[0m\u001b[0;34m(\u001b[0m\u001b[0;34m-\u001b[0m\u001b[0;36m1\u001b[0m\u001b[0;34m,\u001b[0m \u001b[0;36m1\u001b[0m\u001b[0;34m)\u001b[0m\u001b[0;34m)\u001b[0m\u001b[0;34m\u001b[0m\u001b[0;34m\u001b[0m\u001b[0m\n\u001b[1;32m     12\u001b[0m \u001b[0;34m\u001b[0m\u001b[0m\n",
            "\u001b[0;31mNameError\u001b[0m: name 'train_data' is not defined"
          ]
        }
      ],
      "source": [
        "import pandas as pd\n",
        "from sklearn.preprocessing import MinMaxScaler\n",
        "import tensorflow as tf\n",
        "from tensorflow.keras.models import Sequential\n",
        "from tensorflow.keras.layers import LSTM, Dense\n",
        "\n",
        "\n",
        "# Scale the data\n",
        "scaler = MinMaxScaler()\n",
        "train_data = scaler.fit_transform(train_data.reshape(-1, 1))\n",
        "test_data = scaler.transform(test_data.reshape(-1, 1))\n",
        "\n",
        "# Create sequences\n",
        "sequence_length = 30  # Example sequence length\n",
        "X_train, y_train = create_sequences(train_data, sequence_length)\n",
        "X_test, y_test = create_sequences(test_data, sequence_length)\n",
        "\n",
        "# Build the LSTM model\n",
        "model = Sequential()\n",
        "model.add(LSTM(64, input_shape=(sequence_length, 1)))\n",
        "model.add(Dense(1))\n",
        "\n",
        "# Compile and train the model\n",
        "model.compile(optimizer='adam', loss='mean_squared_error')\n",
        "model.fit(X_train, y_train, epochs=50, batch_size=32, validation_data=(X_test, y_test))\n",
        "\n",
        "# Make predictions\n",
        "predictions = model.predict(X_test)\n",
        "predictions = scaler.inverse_transform(predictions)\n",
        "\n"
      ]
    },
    {
      "cell_type": "code",
      "source": [
        "import pandas as pd\n",
        "import numpy as np\n",
        "from sklearn.preprocessing import MinMaxScaler\n",
        "import tensorflow as tf\n",
        "from tensorflow.keras.models import Sequential\n",
        "from tensorflow.keras.layers import LSTM, Dense\n",
        "\n",
        "\n",
        "\n",
        "df['Date'] = pd.to_datetime(df['Date'])\n",
        "df.set_index('Date', inplace=True)\n",
        "\n",
        "# Use the 'Close' price for forecasting\n",
        "ts = df['Close'].values\n",
        "\n",
        "# Scale the data\n",
        "scaler = MinMaxScaler()\n",
        "ts = scaler.fit_transform(ts.reshape(-1, 1))\n",
        "\n",
        "# Create sequences\n",
        "sequence_length = 30  # Example sequence length\n",
        "\n",
        "def create_sequences(data, seq_length):\n",
        "    X = []\n",
        "    y = []\n",
        "\n",
        "    for i in range(len(data) - seq_length):\n",
        "        X.append(data[i:i+seq_length])\n",
        "        y.append(data[i+seq_length])\n",
        "\n",
        "    X = np.array(X)\n",
        "    X = np.reshape(X, (X.shape[0], X.shape[1], 1))\n",
        "    y = np.array(y)\n",
        "\n",
        "    return X, y\n",
        "\n",
        "# Split the data into training and testing sets\n",
        "train_size = int(len(ts) * 0.8)\n",
        "train_data, test_data = ts[:train_size], ts[train_size:]\n",
        "\n",
        "X_train, y_train = create_sequences(train_data, sequence_length)\n",
        "X_test, y_test = create_sequences(test_data, sequence_length)\n",
        "\n",
        "# Build the LSTM model\n",
        "model = Sequential()\n",
        "model.add(LSTM(64, input_shape=(sequence_length, 1)))\n",
        "model.add(Dense(1))\n",
        "\n",
        "# Compile and train the model\n",
        "model.compile(optimizer='adam', loss='mean_squared_error')\n",
        "model.fit(X_train, y_train, epochs=50, batch_size=32, validation_data=(X_test, y_test))\n",
        "\n",
        "# Make predictions\n",
        "predictions = model.predict(X_test)\n",
        "predictions = scaler.inverse_transform(predictions)\n",
        "\n",
        "# Calculate evaluation metrics\n",
        "from sklearn.metrics import mean_squared_error\n",
        "from math import sqrt\n",
        "\n",
        "rmse = sqrt(mean_squared_error(y_test, predictions))\n",
        "print(f'Test RMSE: {rmse:.3f}')"
      ],
      "metadata": {
        "colab": {
          "base_uri": "https://localhost:8080/"
        },
        "id": "YQTfWE8hSpMG",
        "outputId": "ff28abf8-b400-43a2-f3e6-e1c79eb957d1"
      },
      "execution_count": 14,
      "outputs": [
        {
          "output_type": "stream",
          "name": "stdout",
          "text": [
            "Epoch 1/50\n",
            "721/721 [==============================] - 17s 20ms/step - loss: 3.0436e-04 - val_loss: 1.1611e-05\n",
            "Epoch 2/50\n",
            "721/721 [==============================] - 15s 20ms/step - loss: 9.0055e-05 - val_loss: 4.5912e-06\n",
            "Epoch 3/50\n",
            "721/721 [==============================] - 14s 19ms/step - loss: 7.9727e-05 - val_loss: 3.3545e-06\n",
            "Epoch 4/50\n",
            "721/721 [==============================] - 13s 18ms/step - loss: 6.2265e-05 - val_loss: 2.3980e-06\n",
            "Epoch 5/50\n",
            "721/721 [==============================] - 14s 20ms/step - loss: 5.6011e-05 - val_loss: 2.0797e-06\n",
            "Epoch 6/50\n",
            "721/721 [==============================] - 14s 19ms/step - loss: 5.0099e-05 - val_loss: 5.3561e-05\n",
            "Epoch 7/50\n",
            "721/721 [==============================] - 13s 19ms/step - loss: 4.5956e-05 - val_loss: 3.5418e-06\n",
            "Epoch 8/50\n",
            "721/721 [==============================] - 16s 22ms/step - loss: 4.2398e-05 - val_loss: 3.4206e-06\n",
            "Epoch 9/50\n",
            "721/721 [==============================] - 14s 19ms/step - loss: 3.8556e-05 - val_loss: 1.0115e-05\n",
            "Epoch 10/50\n",
            "721/721 [==============================] - 14s 19ms/step - loss: 4.0629e-05 - val_loss: 1.5163e-06\n",
            "Epoch 11/50\n",
            "721/721 [==============================] - 14s 19ms/step - loss: 3.9114e-05 - val_loss: 5.0422e-06\n",
            "Epoch 12/50\n",
            "721/721 [==============================] - 14s 19ms/step - loss: 3.8103e-05 - val_loss: 9.7240e-06\n",
            "Epoch 13/50\n",
            "721/721 [==============================] - 14s 20ms/step - loss: 3.6679e-05 - val_loss: 2.6302e-06\n",
            "Epoch 14/50\n",
            "721/721 [==============================] - 14s 19ms/step - loss: 3.8238e-05 - val_loss: 6.4435e-06\n",
            "Epoch 15/50\n",
            "721/721 [==============================] - 13s 18ms/step - loss: 3.6939e-05 - val_loss: 2.0520e-06\n",
            "Epoch 16/50\n",
            "721/721 [==============================] - 13s 18ms/step - loss: 3.6695e-05 - val_loss: 1.6537e-06\n",
            "Epoch 17/50\n",
            "721/721 [==============================] - 13s 18ms/step - loss: 3.7303e-05 - val_loss: 4.6029e-06\n",
            "Epoch 18/50\n",
            "721/721 [==============================] - 16s 22ms/step - loss: 3.5336e-05 - val_loss: 7.7510e-06\n",
            "Epoch 19/50\n",
            "721/721 [==============================] - 15s 21ms/step - loss: 3.6428e-05 - val_loss: 3.7626e-06\n",
            "Epoch 20/50\n",
            "721/721 [==============================] - 13s 19ms/step - loss: 3.5798e-05 - val_loss: 1.2729e-05\n",
            "Epoch 21/50\n",
            "721/721 [==============================] - 13s 18ms/step - loss: 3.6524e-05 - val_loss: 2.1519e-06\n",
            "Epoch 22/50\n",
            "721/721 [==============================] - 14s 19ms/step - loss: 3.5384e-05 - val_loss: 4.8564e-06\n",
            "Epoch 23/50\n",
            "721/721 [==============================] - 13s 18ms/step - loss: 3.6315e-05 - val_loss: 1.4301e-06\n",
            "Epoch 24/50\n",
            "721/721 [==============================] - 13s 18ms/step - loss: 3.5553e-05 - val_loss: 1.3994e-06\n",
            "Epoch 25/50\n",
            "721/721 [==============================] - 14s 19ms/step - loss: 3.5792e-05 - val_loss: 1.4634e-06\n",
            "Epoch 26/50\n",
            "721/721 [==============================] - 14s 19ms/step - loss: 3.4736e-05 - val_loss: 3.1590e-05\n",
            "Epoch 27/50\n",
            "721/721 [==============================] - 15s 21ms/step - loss: 3.5548e-05 - val_loss: 2.5802e-06\n",
            "Epoch 28/50\n",
            "721/721 [==============================] - 14s 19ms/step - loss: 3.5642e-05 - val_loss: 1.6690e-06\n",
            "Epoch 29/50\n",
            "721/721 [==============================] - 14s 19ms/step - loss: 3.5872e-05 - val_loss: 2.2214e-06\n",
            "Epoch 30/50\n",
            "721/721 [==============================] - 14s 19ms/step - loss: 3.4810e-05 - val_loss: 1.3972e-06\n",
            "Epoch 31/50\n",
            "721/721 [==============================] - 14s 20ms/step - loss: 3.5455e-05 - val_loss: 2.4122e-06\n",
            "Epoch 32/50\n",
            "721/721 [==============================] - 15s 20ms/step - loss: 3.7316e-05 - val_loss: 3.4821e-06\n",
            "Epoch 33/50\n",
            "721/721 [==============================] - 14s 19ms/step - loss: 3.5687e-05 - val_loss: 2.0013e-06\n",
            "Epoch 34/50\n",
            "721/721 [==============================] - 14s 20ms/step - loss: 3.4837e-05 - val_loss: 1.4769e-06\n",
            "Epoch 35/50\n",
            "721/721 [==============================] - 14s 19ms/step - loss: 3.4946e-05 - val_loss: 1.8197e-06\n",
            "Epoch 36/50\n",
            "721/721 [==============================] - 14s 19ms/step - loss: 3.4053e-05 - val_loss: 1.4670e-06\n",
            "Epoch 37/50\n",
            "721/721 [==============================] - 15s 21ms/step - loss: 3.3846e-05 - val_loss: 2.1068e-06\n",
            "Epoch 38/50\n",
            "721/721 [==============================] - 14s 20ms/step - loss: 3.5232e-05 - val_loss: 3.9021e-06\n",
            "Epoch 39/50\n",
            "721/721 [==============================] - 14s 20ms/step - loss: 3.5699e-05 - val_loss: 1.4031e-06\n",
            "Epoch 40/50\n",
            "721/721 [==============================] - 14s 20ms/step - loss: 3.3628e-05 - val_loss: 4.9742e-05\n",
            "Epoch 41/50\n",
            "721/721 [==============================] - 14s 19ms/step - loss: 3.4776e-05 - val_loss: 2.1081e-06\n",
            "Epoch 42/50\n",
            "721/721 [==============================] - 15s 21ms/step - loss: 3.5280e-05 - val_loss: 1.3617e-06\n",
            "Epoch 43/50\n",
            "721/721 [==============================] - 14s 20ms/step - loss: 3.4619e-05 - val_loss: 2.1792e-06\n",
            "Epoch 44/50\n",
            "721/721 [==============================] - 14s 20ms/step - loss: 3.3373e-05 - val_loss: 1.4375e-06\n",
            "Epoch 45/50\n",
            "721/721 [==============================] - 14s 20ms/step - loss: 3.4148e-05 - val_loss: 1.6269e-06\n",
            "Epoch 46/50\n",
            "721/721 [==============================] - 14s 20ms/step - loss: 3.4605e-05 - val_loss: 2.4475e-06\n",
            "Epoch 47/50\n",
            "721/721 [==============================] - 15s 21ms/step - loss: 3.3815e-05 - val_loss: 1.4278e-06\n",
            "Epoch 48/50\n",
            "721/721 [==============================] - 14s 19ms/step - loss: 3.4591e-05 - val_loss: 1.5885e-06\n",
            "Epoch 49/50\n",
            "721/721 [==============================] - 14s 19ms/step - loss: 3.4503e-05 - val_loss: 5.7638e-06\n",
            "Epoch 50/50\n",
            "721/721 [==============================] - 15s 21ms/step - loss: 3.4362e-05 - val_loss: 3.1666e-06\n",
            "180/180 [==============================] - 2s 8ms/step\n",
            "Test RMSE: 1888.418\n"
          ]
        }
      ]
    },
    {
      "cell_type": "code",
      "source": [
        "print(f'Test RMSE: {rmse:.3f}')"
      ],
      "metadata": {
        "colab": {
          "base_uri": "https://localhost:8080/"
        },
        "id": "DeiznDnyVv97",
        "outputId": "478e9369-84c6-44b2-e8da-bb7401798449"
      },
      "execution_count": 15,
      "outputs": [
        {
          "output_type": "stream",
          "name": "stdout",
          "text": [
            "Test RMSE: 1888.418\n"
          ]
        }
      ]
    },
    {
      "cell_type": "code",
      "source": [],
      "metadata": {
        "id": "E4w5xVbCZIU1"
      },
      "execution_count": null,
      "outputs": []
    }
  ]
}